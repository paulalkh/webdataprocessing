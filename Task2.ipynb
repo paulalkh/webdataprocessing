{
 "cells": [
  {
   "cell_type": "code",
   "execution_count": 198,
   "id": "6b4b9b78-0d28-439c-b851-34f6637727a3",
   "metadata": {},
   "outputs": [],
   "source": [
    "import numpy as np\n",
    "import spacy\n",
    "import re\n",
    "\n",
    "nlp = spacy.load(\"en_core_web_md\")"
   ]
  },
  {
   "cell_type": "markdown",
   "id": "4da88972-d225-4f40-88e0-b8f0bddc52c5",
   "metadata": {},
   "source": [
    "### process utils"
   ]
  },
  {
   "cell_type": "code",
   "execution_count": 42,
   "id": "f1c76658-4a81-4e3c-af96-0b8c8e12daf8",
   "metadata": {},
   "outputs": [],
   "source": [
    "# remove stopwords to avoid the same entities mapping differently\n",
    "def preprocess(sentence, nlp): \n",
    "    doc = nlp(sentence)\n",
    "    \n",
    "    # Remove stop words\n",
    "    filtered_tokens = [token for token in doc if not token.is_stop]\n",
    "    \n",
    "    # Store named entities before removing stopwords\n",
    "    entities_before = [(token.text, token.ent_type_) for token in doc]\n",
    "    \n",
    "    # Remove stop words\n",
    "    filtered_tokens = [token for token in doc if not token.is_stop]\n",
    "    \n",
    "    # Access entities for the remaining tokens\n",
    "    filtered_entities = [(token.text, token.ent_type_) for token in filtered_tokens]\n",
    "\n",
    "    return merge_entities_after_stopwords(filtered_tokens)\n",
    "\n",
    "# merges split entities after stopword removal\n",
    "def merge_entities_after_stopwords(doc):\n",
    "    merged_tokens = []\n",
    "    current_entity = None\n",
    "\n",
    "    for token in doc:\n",
    "        if token.is_stop:\n",
    "            continue  # Skip stopwords\n",
    "        if token.ent_type_:\n",
    "            if current_entity is None:\n",
    "                current_entity = (token.text, token.ent_type_)\n",
    "            else:\n",
    "                current_entity = (current_entity[0] + \" \" + token.text, token.ent_type_)\n",
    "        else:\n",
    "            if current_entity is not None:\n",
    "                merged_tokens.append(current_entity)\n",
    "                current_entity = None\n",
    "            else:\n",
    "                merged_tokens.append((token.text, \"\"))\n",
    "    \n",
    "    if current_entity is not None:\n",
    "        merged_tokens.append(current_entity)\n",
    "\n",
    "    return merged_tokens\n",
    "\n",
    "# removes entities from answer if they are in question\n",
    "def new_information(extracted_ents, question_ents):\n",
    "    return [extracted_ent for extracted_ent in extracted_ents if extracted_ent not in question_ents]"
   ]
  },
  {
   "cell_type": "code",
   "execution_count": 297,
   "id": "c07e1700-35d2-424b-8f46-36b0d2b30a62",
   "metadata": {},
   "outputs": [],
   "source": [
    "def extract_closed_answer(answer, nlp):\n",
    "    doc = nlp(answer)\n",
    "    root = [token for token in doc if token.dep_ == \"ROOT\"]\n",
    "\n",
    "    for token in doc:\n",
    "        if token.head in root and token.dep_ == \"neg\" or \"no\" in answer.lower():\n",
    "            return 'no'\n",
    "    return 'yes'\n",
    "\n",
    "\n",
    "def extract_open_answer(question, answer, nlp):\n",
    "    entity_extraction = []\n",
    "    question_ents = preprocess(question, nlp)\n",
    "    answer_ents = preprocess(answer, nlp)\n",
    "    \n",
    "    if 'who' in question.lower():\n",
    "        temp = [ent for ent in answer_ents if ent[1] == 'PERSON']\n",
    "        entity_extraction += new_information(temp, question_ents)\n",
    "    \n",
    "    if'where' in question.lower():        \n",
    "        temp = [ent for ent in answer_ents if ent[1] in ['GPE', 'LOC', 'FAC', 'ORG']]\n",
    "        entity_extraction += new_information(temp, question_ents)\n",
    "\n",
    "    if 'when' in question.lower():\n",
    "        temp = [ent for ent in answer_ents if ent[1] in ['DATE', 'TIME', 'EVENT']]\n",
    "        entity_extraction += new_information(temp, question_ents)\n",
    "    \n",
    "    return entity_extraction"
   ]
  },
  {
   "cell_type": "code",
   "execution_count": 321,
   "id": "0b145f4f-2bbf-4848-8386-a0f94cdd0d72",
   "metadata": {},
   "outputs": [
    {
     "name": "stdout",
     "output_type": "stream",
     "text": [
      "Managua is not the capital of Nicaragua:  no\n",
      "Paris isn't located in France:  no\n",
      "No.:  no\n",
      "It is thought that Managua is the capital, but this is not the case.:  no\n",
      "Yes, Managua is the capital of Nicaragua:  yes\n",
      "Currently, the president of the US is Biden:  yes\n",
      "Most people think Managua is the capital of Nicaragua. However, Managua is not the capital of Nicaragua.:  no\n",
      "\n",
      "\n",
      "[('Easter', 'DATE')]\n",
      "[('25th december', 'DATE')]\n",
      "[('Europe', 'LOC')]\n",
      "[('Joe Biden', 'PERSON')]\n",
      "[]\n",
      "[]\n",
      "[]\n",
      "[]\n"
     ]
    }
   ],
   "source": [
    "closed_answers = [ \"Managua is not the capital of Nicaragua\",\n",
    "                  \"Paris isn't located in France\",\n",
    "                 \"No.\",\n",
    "                  \"It is thought that Managua is the capital, but this is not the case.\",\n",
    "                  \"Yes, Managua is the capital of Nicaragua\",\n",
    "                  \"Currently, the president of the US is Biden\",\n",
    "                  \"Most people think Managua is the capital of Nicaragua. However, Managua is not the capital of Nicaragua.\"\n",
    "                ]\n",
    "\n",
    "questions = [\n",
    "            \"When can we expect the package?\",\n",
    "            \"When is it Christmas?\",\n",
    "            \"Where is The Netherlands located ?\",\n",
    "            \"Who is the president of the US?\",\n",
    "            \"What is the capital of Nicaragua?\",\n",
    "             \"What is the capital of Nicaragua and its population?\",\n",
    "              \"the capital of nicaragua is...\",\n",
    "             \"Managua is not the capital of Nicaragua. Yes or no?\",\n",
    "            ]\n",
    "\n",
    "answers = [\n",
    "            \"The package is expected around Easter.\",\n",
    "            \"Christmas is celebrated on 25th of december.\",\n",
    "            \"The Netherlands is located in Europe.\",\n",
    "            \"Joe Biden is the president of the US.\",\n",
    "            \"Managua is the capital of Nicaragua.\",\n",
    "           \"Managua is the capital of Nicaragua. The population of Managua is 1.3 million people.\",\n",
    "           \"Prior to 1979, Nicaragua was known as the Republic of Nicaragua. It is a republic with a presidential system of government. The capital of Nicaragua is Managua.\",\n",
    "           \"Most people think Managua is the capital of Nicaragua. However, Managua is not the capital of Nicaragua.\",\n",
    "          ]\n",
    "\n",
    "for answer in closed_answers:\n",
    "    print(f\"{answer}: \", extract_closed_answer(answer, nlp))\n",
    "\n",
    "print(\"\\n\")\n",
    "for question,answer in zip(questions, answers):\n",
    "    print(extract_open_answer(question, answer, nlp))"
   ]
  },
  {
   "cell_type": "markdown",
   "id": "3929b947-ba5f-44f3-81bb-8b00f6b0fea6",
   "metadata": {},
   "source": [
    "## Vector utils"
   ]
  },
  {
   "cell_type": "code",
   "execution_count": 322,
   "id": "7fda20dc-f269-42e2-8643-b57b7cbe38db",
   "metadata": {},
   "outputs": [],
   "source": [
    "def vectorize_nouns(nouns):\n",
    "    vec = 0\n",
    "    for token in tokens:\n",
    "        vec += token.vector\n",
    "    return vec\n",
    "\n",
    "def similarity(vec1, vec2):\n",
    "    return (np.dot(vec1, vec2) / (np.linalg.norm(vec1) * np.linalg.norm(vec2)))\n"
   ]
  },
  {
   "cell_type": "code",
   "execution_count": 323,
   "id": "73c42874-980c-4cea-ae9b-045b74afe661",
   "metadata": {},
   "outputs": [
    {
     "data": {
      "text/plain": [
       "'1.3 million'"
      ]
     },
     "execution_count": 323,
     "metadata": {},
     "output_type": "execute_result"
    }
   ],
   "source": [
    "question = \"What is the capital of Nicaragua?\"\n",
    "answer = \"Managua is the capital of Nicaragua. The population of Managua is 1.3 million people.\"\n",
    "\n",
    "q = nlp(question)\n",
    "a = nlp(answer)\n",
    "\n",
    "q_nouns_text = list(set([tok.text for tok in q if tok.pos_ in [\"NOUN\", \"PROPN\"]]))\n",
    "q_nouns_text_lower = [noun.lower() for noun in q_nouns_text]\n",
    "\n",
    "a_ents = [ent.text for ent in a.ents]\n",
    "filter = [ent for noun in q_nouns_text_lower for ent in a_ents if re.search(noun, ent.lower())]\n",
    "a_ents = [ent for ent in a_ents if not ent in filter]\n",
    "\n",
    "q_vectorized = np.sum([nlp(noun).vector for noun in q_nouns_text], axis=0)\n",
    "\n",
    "idx = np.argmax([similarity(q_vectorized, nlp(ent).vector) for ent in a_ents])\n",
    "\n",
    "a_ents[idx]"
   ]
  },
  {
   "cell_type": "code",
   "execution_count": null,
   "id": "14346205-1f1c-4d32-867e-2001d301dca0",
   "metadata": {},
   "outputs": [],
   "source": []
  }
 ],
 "metadata": {
  "kernelspec": {
   "display_name": "venv-local",
   "language": "python",
   "name": "venv-local"
  },
  "language_info": {
   "codemirror_mode": {
    "name": "ipython",
    "version": 3
   },
   "file_extension": ".py",
   "mimetype": "text/x-python",
   "name": "python",
   "nbconvert_exporter": "python",
   "pygments_lexer": "ipython3",
   "version": "3.9.0"
  }
 },
 "nbformat": 4,
 "nbformat_minor": 5
}
